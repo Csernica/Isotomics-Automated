{
 "cells": [
  {
   "cell_type": "code",
   "execution_count": 8,
   "metadata": {},
   "outputs": [
    {
     "name": "stdout",
     "output_type": "stream",
     "text": [
      "/Users/sarahzeichner/Documents/GitHub/Isotomics-Automated\n"
     ]
    }
   ],
   "source": [
    "#IMPORT DEPENDENCIES\n",
    "import sys; sys.path.insert(0, 'lib')\n",
    "import os\n",
    "import copy\n",
    "import json\n",
    "from pathlib import Path\n",
    "from tqdm import tqdm\n",
    "import matplotlib.pyplot as plt\n",
    "from datetime import date\n",
    "\n",
    "#relative imports of Isotomics\n",
    "cwd = Path().resolve()\n",
    "print(cwd)\n",
    "sys.path.insert(1, os.path.join(cwd, 'lib'))\n",
    "import fragmentAndSimulate as fas\n",
    "import calcIsotopologues as ci\n",
    "import readInput as ri\n",
    "import solveSystem as ss\n",
    "import basicDeltaOperations as op\n",
    "import fragmentAndSimulate as fas \n",
    "import organizeData\n",
    "import dataAnalyzerMNIsoX as dA\n",
    "import dataScreenIsoX as dataScreen\n",
    "import readCSVAndSimulate as sim\n",
    "import spectrumVis"
   ]
  },
  {
   "cell_type": "code",
   "execution_count": 9,
   "metadata": {},
   "outputs": [],
   "source": [
    "#SET PARAMETERS\n",
    "MOLECULE_INPUT_PATH = \"Processed Data\\Example Input.csv\"\n",
    "STD_DELTAS = [-30] * 6\n",
    "SMP_DELTAS = [0] * 6\n",
    "STD_DELTAS_APPROX = [-30] * 6\n",
    "ABUNDANCE_THRESHOLD = 0\n",
    "OMIT_MEASUREMENTS = {'M1':{'full':['17O']}}\n",
    "FRACTIONATION = False\n",
    "FRACTIONATION_AMOUNT = 0.05\n",
    "ERROR_PATH = 'Processed Data\\Alanine Experimental Errors.csv'\n",
    "MN_ERROR = 1\n",
    "MOLECULAR_AVERAGE_SUBSTITUION = '13C'\n",
    "MOLECULAR_AVERAGE_ERROR = 1\n",
    "OUTPUT_FILENAME = 'output.csv'"
   ]
  },
  {
   "cell_type": "code",
   "execution_count": 10,
   "metadata": {},
   "outputs": [
    {
     "ename": "FileNotFoundError",
     "evalue": "[Errno 2] No such file or directory: 'Processed Data\\\\Example Input.csv'",
     "output_type": "error",
     "traceback": [
      "\u001b[0;31m---------------------------------------------------------------------------\u001b[0m",
      "\u001b[0;31mFileNotFoundError\u001b[0m                         Traceback (most recent call last)",
      "Cell \u001b[0;32mIn[10], line 2\u001b[0m\n\u001b[1;32m      1\u001b[0m \u001b[39m#CONSTRUCT AND EXPLORE SYSTEM\u001b[39;00m\n\u001b[0;32m----> 2\u001b[0m initializedMolecule \u001b[39m=\u001b[39m sim\u001b[39m.\u001b[39mmoleculeFromCsv(MOLECULE_INPUT_PATH)\n\u001b[1;32m      3\u001b[0m predictedMeasurement, MNDict, fractionationFactors \u001b[39m=\u001b[39m sim\u001b[39m.\u001b[39msimulateMeasurement(initializedMolecule, massThreshold \u001b[39m=\u001b[39m \u001b[39m5\u001b[39m)\n\u001b[1;32m      5\u001b[0m spectrumVis\u001b[39m.\u001b[39mfullSpectrumVis(predictedMeasurement[\u001b[39m'\u001b[39m\u001b[39mFull Molecule\u001b[39m\u001b[39m'\u001b[39m], initializedMolecule[\u001b[39m'\u001b[39m\u001b[39mmolecularDataFrame\u001b[39m\u001b[39m'\u001b[39m], figsize \u001b[39m=\u001b[39m (\u001b[39m8\u001b[39m,\u001b[39m4\u001b[39m), massError \u001b[39m=\u001b[39m \u001b[39m0\u001b[39m, lowAbundanceCutOff \u001b[39m=\u001b[39m \u001b[39m0\u001b[39m, xlim \u001b[39m=\u001b[39m (), ylim \u001b[39m=\u001b[39m (), outputIsotopologs\u001b[39m=\u001b[39m\u001b[39mTrue\u001b[39;00m)\n",
      "File \u001b[0;32m~/Documents/GitHub/Isotomics-Automated/lib/readCSVAndSimulate.py:93\u001b[0m, in \u001b[0;36mmoleculeFromCsv\u001b[0;34m(path, deltas, fragSubset)\u001b[0m\n\u001b[1;32m     77\u001b[0m \u001b[39m\u001b[39m\u001b[39m'''\u001b[39;00m\n\u001b[1;32m     78\u001b[0m \u001b[39mReads in a .csv file to get basic information about that molecule.\u001b[39;00m\n\u001b[1;32m     79\u001b[0m \n\u001b[0;32m   (...)\u001b[0m\n\u001b[1;32m     90\u001b[0m \u001b[39m        fragmentationDictionary: A dictionary like the allFragments variable, but only including the subset of fragments selected by fragSubset.\u001b[39;00m\n\u001b[1;32m     91\u001b[0m \u001b[39m'''\u001b[39;00m\n\u001b[1;32m     92\u001b[0m \u001b[39m#Read csv\u001b[39;00m\n\u001b[0;32m---> 93\u001b[0m molecularDf \u001b[39m=\u001b[39m pd\u001b[39m.\u001b[39mread_csv(path, index_col\u001b[39m=\u001b[39m\u001b[39m'\u001b[39m\u001b[39mSite Names\u001b[39m\u001b[39m'\u001b[39m)\n\u001b[1;32m     94\u001b[0m molecularDf\u001b[39m.\u001b[39mindex\u001b[39m.\u001b[39mname \u001b[39m=\u001b[39m \u001b[39mNone\u001b[39;00m\n\u001b[1;32m     96\u001b[0m \u001b[39m#Columns must be renamed from the input csv to the format the code expects. We add to this in 'process_fragment_column'.\u001b[39;00m\n",
      "File \u001b[0;32m~/anaconda3/lib/python3.11/site-packages/pandas/util/_decorators.py:211\u001b[0m, in \u001b[0;36mdeprecate_kwarg.<locals>._deprecate_kwarg.<locals>.wrapper\u001b[0;34m(*args, **kwargs)\u001b[0m\n\u001b[1;32m    209\u001b[0m     \u001b[39melse\u001b[39;00m:\n\u001b[1;32m    210\u001b[0m         kwargs[new_arg_name] \u001b[39m=\u001b[39m new_arg_value\n\u001b[0;32m--> 211\u001b[0m \u001b[39mreturn\u001b[39;00m func(\u001b[39m*\u001b[39margs, \u001b[39m*\u001b[39m\u001b[39m*\u001b[39mkwargs)\n",
      "File \u001b[0;32m~/anaconda3/lib/python3.11/site-packages/pandas/util/_decorators.py:331\u001b[0m, in \u001b[0;36mdeprecate_nonkeyword_arguments.<locals>.decorate.<locals>.wrapper\u001b[0;34m(*args, **kwargs)\u001b[0m\n\u001b[1;32m    325\u001b[0m \u001b[39mif\u001b[39;00m \u001b[39mlen\u001b[39m(args) \u001b[39m>\u001b[39m num_allow_args:\n\u001b[1;32m    326\u001b[0m     warnings\u001b[39m.\u001b[39mwarn(\n\u001b[1;32m    327\u001b[0m         msg\u001b[39m.\u001b[39mformat(arguments\u001b[39m=\u001b[39m_format_argument_list(allow_args)),\n\u001b[1;32m    328\u001b[0m         \u001b[39mFutureWarning\u001b[39;00m,\n\u001b[1;32m    329\u001b[0m         stacklevel\u001b[39m=\u001b[39mfind_stack_level(),\n\u001b[1;32m    330\u001b[0m     )\n\u001b[0;32m--> 331\u001b[0m \u001b[39mreturn\u001b[39;00m func(\u001b[39m*\u001b[39margs, \u001b[39m*\u001b[39m\u001b[39m*\u001b[39mkwargs)\n",
      "File \u001b[0;32m~/anaconda3/lib/python3.11/site-packages/pandas/io/parsers/readers.py:950\u001b[0m, in \u001b[0;36mread_csv\u001b[0;34m(filepath_or_buffer, sep, delimiter, header, names, index_col, usecols, squeeze, prefix, mangle_dupe_cols, dtype, engine, converters, true_values, false_values, skipinitialspace, skiprows, skipfooter, nrows, na_values, keep_default_na, na_filter, verbose, skip_blank_lines, parse_dates, infer_datetime_format, keep_date_col, date_parser, dayfirst, cache_dates, iterator, chunksize, compression, thousands, decimal, lineterminator, quotechar, quoting, doublequote, escapechar, comment, encoding, encoding_errors, dialect, error_bad_lines, warn_bad_lines, on_bad_lines, delim_whitespace, low_memory, memory_map, float_precision, storage_options)\u001b[0m\n\u001b[1;32m    935\u001b[0m kwds_defaults \u001b[39m=\u001b[39m _refine_defaults_read(\n\u001b[1;32m    936\u001b[0m     dialect,\n\u001b[1;32m    937\u001b[0m     delimiter,\n\u001b[0;32m   (...)\u001b[0m\n\u001b[1;32m    946\u001b[0m     defaults\u001b[39m=\u001b[39m{\u001b[39m\"\u001b[39m\u001b[39mdelimiter\u001b[39m\u001b[39m\"\u001b[39m: \u001b[39m\"\u001b[39m\u001b[39m,\u001b[39m\u001b[39m\"\u001b[39m},\n\u001b[1;32m    947\u001b[0m )\n\u001b[1;32m    948\u001b[0m kwds\u001b[39m.\u001b[39mupdate(kwds_defaults)\n\u001b[0;32m--> 950\u001b[0m \u001b[39mreturn\u001b[39;00m _read(filepath_or_buffer, kwds)\n",
      "File \u001b[0;32m~/anaconda3/lib/python3.11/site-packages/pandas/io/parsers/readers.py:605\u001b[0m, in \u001b[0;36m_read\u001b[0;34m(filepath_or_buffer, kwds)\u001b[0m\n\u001b[1;32m    602\u001b[0m _validate_names(kwds\u001b[39m.\u001b[39mget(\u001b[39m\"\u001b[39m\u001b[39mnames\u001b[39m\u001b[39m\"\u001b[39m, \u001b[39mNone\u001b[39;00m))\n\u001b[1;32m    604\u001b[0m \u001b[39m# Create the parser.\u001b[39;00m\n\u001b[0;32m--> 605\u001b[0m parser \u001b[39m=\u001b[39m TextFileReader(filepath_or_buffer, \u001b[39m*\u001b[39m\u001b[39m*\u001b[39mkwds)\n\u001b[1;32m    607\u001b[0m \u001b[39mif\u001b[39;00m chunksize \u001b[39mor\u001b[39;00m iterator:\n\u001b[1;32m    608\u001b[0m     \u001b[39mreturn\u001b[39;00m parser\n",
      "File \u001b[0;32m~/anaconda3/lib/python3.11/site-packages/pandas/io/parsers/readers.py:1442\u001b[0m, in \u001b[0;36mTextFileReader.__init__\u001b[0;34m(self, f, engine, **kwds)\u001b[0m\n\u001b[1;32m   1439\u001b[0m     \u001b[39mself\u001b[39m\u001b[39m.\u001b[39moptions[\u001b[39m\"\u001b[39m\u001b[39mhas_index_names\u001b[39m\u001b[39m\"\u001b[39m] \u001b[39m=\u001b[39m kwds[\u001b[39m\"\u001b[39m\u001b[39mhas_index_names\u001b[39m\u001b[39m\"\u001b[39m]\n\u001b[1;32m   1441\u001b[0m \u001b[39mself\u001b[39m\u001b[39m.\u001b[39mhandles: IOHandles \u001b[39m|\u001b[39m \u001b[39mNone\u001b[39;00m \u001b[39m=\u001b[39m \u001b[39mNone\u001b[39;00m\n\u001b[0;32m-> 1442\u001b[0m \u001b[39mself\u001b[39m\u001b[39m.\u001b[39m_engine \u001b[39m=\u001b[39m \u001b[39mself\u001b[39m\u001b[39m.\u001b[39m_make_engine(f, \u001b[39mself\u001b[39m\u001b[39m.\u001b[39mengine)\n",
      "File \u001b[0;32m~/anaconda3/lib/python3.11/site-packages/pandas/io/parsers/readers.py:1735\u001b[0m, in \u001b[0;36mTextFileReader._make_engine\u001b[0;34m(self, f, engine)\u001b[0m\n\u001b[1;32m   1733\u001b[0m     \u001b[39mif\u001b[39;00m \u001b[39m\"\u001b[39m\u001b[39mb\u001b[39m\u001b[39m\"\u001b[39m \u001b[39mnot\u001b[39;00m \u001b[39min\u001b[39;00m mode:\n\u001b[1;32m   1734\u001b[0m         mode \u001b[39m+\u001b[39m\u001b[39m=\u001b[39m \u001b[39m\"\u001b[39m\u001b[39mb\u001b[39m\u001b[39m\"\u001b[39m\n\u001b[0;32m-> 1735\u001b[0m \u001b[39mself\u001b[39m\u001b[39m.\u001b[39mhandles \u001b[39m=\u001b[39m get_handle(\n\u001b[1;32m   1736\u001b[0m     f,\n\u001b[1;32m   1737\u001b[0m     mode,\n\u001b[1;32m   1738\u001b[0m     encoding\u001b[39m=\u001b[39m\u001b[39mself\u001b[39m\u001b[39m.\u001b[39moptions\u001b[39m.\u001b[39mget(\u001b[39m\"\u001b[39m\u001b[39mencoding\u001b[39m\u001b[39m\"\u001b[39m, \u001b[39mNone\u001b[39;00m),\n\u001b[1;32m   1739\u001b[0m     compression\u001b[39m=\u001b[39m\u001b[39mself\u001b[39m\u001b[39m.\u001b[39moptions\u001b[39m.\u001b[39mget(\u001b[39m\"\u001b[39m\u001b[39mcompression\u001b[39m\u001b[39m\"\u001b[39m, \u001b[39mNone\u001b[39;00m),\n\u001b[1;32m   1740\u001b[0m     memory_map\u001b[39m=\u001b[39m\u001b[39mself\u001b[39m\u001b[39m.\u001b[39moptions\u001b[39m.\u001b[39mget(\u001b[39m\"\u001b[39m\u001b[39mmemory_map\u001b[39m\u001b[39m\"\u001b[39m, \u001b[39mFalse\u001b[39;00m),\n\u001b[1;32m   1741\u001b[0m     is_text\u001b[39m=\u001b[39mis_text,\n\u001b[1;32m   1742\u001b[0m     errors\u001b[39m=\u001b[39m\u001b[39mself\u001b[39m\u001b[39m.\u001b[39moptions\u001b[39m.\u001b[39mget(\u001b[39m\"\u001b[39m\u001b[39mencoding_errors\u001b[39m\u001b[39m\"\u001b[39m, \u001b[39m\"\u001b[39m\u001b[39mstrict\u001b[39m\u001b[39m\"\u001b[39m),\n\u001b[1;32m   1743\u001b[0m     storage_options\u001b[39m=\u001b[39m\u001b[39mself\u001b[39m\u001b[39m.\u001b[39moptions\u001b[39m.\u001b[39mget(\u001b[39m\"\u001b[39m\u001b[39mstorage_options\u001b[39m\u001b[39m\"\u001b[39m, \u001b[39mNone\u001b[39;00m),\n\u001b[1;32m   1744\u001b[0m )\n\u001b[1;32m   1745\u001b[0m \u001b[39massert\u001b[39;00m \u001b[39mself\u001b[39m\u001b[39m.\u001b[39mhandles \u001b[39mis\u001b[39;00m \u001b[39mnot\u001b[39;00m \u001b[39mNone\u001b[39;00m\n\u001b[1;32m   1746\u001b[0m f \u001b[39m=\u001b[39m \u001b[39mself\u001b[39m\u001b[39m.\u001b[39mhandles\u001b[39m.\u001b[39mhandle\n",
      "File \u001b[0;32m~/anaconda3/lib/python3.11/site-packages/pandas/io/common.py:856\u001b[0m, in \u001b[0;36mget_handle\u001b[0;34m(path_or_buf, mode, encoding, compression, memory_map, is_text, errors, storage_options)\u001b[0m\n\u001b[1;32m    851\u001b[0m \u001b[39melif\u001b[39;00m \u001b[39misinstance\u001b[39m(handle, \u001b[39mstr\u001b[39m):\n\u001b[1;32m    852\u001b[0m     \u001b[39m# Check whether the filename is to be opened in binary mode.\u001b[39;00m\n\u001b[1;32m    853\u001b[0m     \u001b[39m# Binary mode does not support 'encoding' and 'newline'.\u001b[39;00m\n\u001b[1;32m    854\u001b[0m     \u001b[39mif\u001b[39;00m ioargs\u001b[39m.\u001b[39mencoding \u001b[39mand\u001b[39;00m \u001b[39m\"\u001b[39m\u001b[39mb\u001b[39m\u001b[39m\"\u001b[39m \u001b[39mnot\u001b[39;00m \u001b[39min\u001b[39;00m ioargs\u001b[39m.\u001b[39mmode:\n\u001b[1;32m    855\u001b[0m         \u001b[39m# Encoding\u001b[39;00m\n\u001b[0;32m--> 856\u001b[0m         handle \u001b[39m=\u001b[39m \u001b[39mopen\u001b[39m(\n\u001b[1;32m    857\u001b[0m             handle,\n\u001b[1;32m    858\u001b[0m             ioargs\u001b[39m.\u001b[39mmode,\n\u001b[1;32m    859\u001b[0m             encoding\u001b[39m=\u001b[39mioargs\u001b[39m.\u001b[39mencoding,\n\u001b[1;32m    860\u001b[0m             errors\u001b[39m=\u001b[39merrors,\n\u001b[1;32m    861\u001b[0m             newline\u001b[39m=\u001b[39m\u001b[39m\"\u001b[39m\u001b[39m\"\u001b[39m,\n\u001b[1;32m    862\u001b[0m         )\n\u001b[1;32m    863\u001b[0m     \u001b[39melse\u001b[39;00m:\n\u001b[1;32m    864\u001b[0m         \u001b[39m# Binary mode\u001b[39;00m\n\u001b[1;32m    865\u001b[0m         handle \u001b[39m=\u001b[39m \u001b[39mopen\u001b[39m(handle, ioargs\u001b[39m.\u001b[39mmode)\n",
      "\u001b[0;31mFileNotFoundError\u001b[0m: [Errno 2] No such file or directory: 'Processed Data\\\\Example Input.csv'"
     ]
    }
   ],
   "source": [
    "#CONSTRUCT AND EXPLORE SYSTEM\n",
    "initializedMolecule = sim.moleculeFromCsv(MOLECULE_INPUT_PATH)\n",
    "predictedMeasurement, MNDict, fractionationFactors = sim.simulateMeasurement(initializedMolecule, massThreshold = 5)\n",
    "\n",
    "spectrumVis.fullSpectrumVis(predictedMeasurement['Full Molecule'], initializedMolecule['molecularDataFrame'], figsize = (8,4), massError = 0, lowAbundanceCutOff = 0, xlim = (), ylim = (), outputIsotopologs=True)\n",
    "\n",
    "spectrumVis.MNSpectrumVis(initializedMolecule['molecularDataFrame'], '44', predictedMeasurement, 'M1', MNDict, lowAbundanceCutOff = 0, massError = 0, xlim = (), ylim = (), outputIsotopologs=True)"
   ]
  },
  {
   "cell_type": "code",
   "execution_count": 11,
   "metadata": {},
   "outputs": [
    {
     "ename": "FileNotFoundError",
     "evalue": "[Errno 2] No such file or directory: 'Processed Data\\\\Example Input.csv'",
     "output_type": "error",
     "traceback": [
      "\u001b[0;31m---------------------------------------------------------------------------\u001b[0m",
      "\u001b[0;31mFileNotFoundError\u001b[0m                         Traceback (most recent call last)",
      "Cell \u001b[0;32mIn[11], line 2\u001b[0m\n\u001b[1;32m      1\u001b[0m \u001b[39m#GET SIMULATION OUTPUT\u001b[39;00m\n\u001b[0;32m----> 2\u001b[0m simulationOutput \u001b[39m=\u001b[39m sim\u001b[39m.\u001b[39msimulateSmpStd(MOLECULE_INPUT_PATH, STD_DELTAS, SMP_DELTAS, STD_DELTAS_APPROX, abundanceThreshold \u001b[39m=\u001b[39m \u001b[39m0\u001b[39m, UValueList \u001b[39m=\u001b[39m [MOLECULAR_AVERAGE_SUBSTITUION], calcFF \u001b[39m=\u001b[39m FRACTIONATION, omitMeasurements \u001b[39m=\u001b[39m OMIT_MEASUREMENTS, ffstd \u001b[39m=\u001b[39m FRACTIONATION_AMOUNT, errorPath \u001b[39m=\u001b[39m ERROR_PATH, MNError \u001b[39m=\u001b[39m MN_ERROR, UValueError \u001b[39m=\u001b[39m MOLECULAR_AVERAGE_ERROR, resultsFileName \u001b[39m=\u001b[39m OUTPUT_FILENAME)\n",
      "File \u001b[0;32m~/Documents/GitHub/Isotomics-Automated/lib/readCSVAndSimulate.py:326\u001b[0m, in \u001b[0;36msimulateSmpStd\u001b[0;34m(path, deltasStd, deltasSmp, deltasStdAppx, abundanceThreshold, UValueList, massThreshold, disableProgress, calcFF, omitMeasurements, ffstd, plot, MonteCarloN, perturbTheoryOAmt, errorPath, MNError, UValueError, resultsFileName, outputPrecision, UMNSub)\u001b[0m\n\u001b[1;32m    316\u001b[0m simArgs \u001b[39m=\u001b[39m {\n\u001b[1;32m    317\u001b[0m \u001b[39m'\u001b[39m\u001b[39mabundanceThreshold\u001b[39m\u001b[39m'\u001b[39m: abundanceThreshold,\n\u001b[1;32m    318\u001b[0m \u001b[39m'\u001b[39m\u001b[39mUValueList\u001b[39m\u001b[39m'\u001b[39m: UValueList,\n\u001b[0;32m   (...)\u001b[0m\n\u001b[1;32m    322\u001b[0m \u001b[39m'\u001b[39m\u001b[39momitMeasurements\u001b[39m\u001b[39m'\u001b[39m: omitMeasurements,\n\u001b[1;32m    323\u001b[0m \u001b[39m'\u001b[39m\u001b[39mffstd\u001b[39m\u001b[39m'\u001b[39m: ffstd}\n\u001b[1;32m    325\u001b[0m \u001b[39m#Simulate observations of the standard\u001b[39;00m\n\u001b[0;32m--> 326\u001b[0m thisStd \u001b[39m=\u001b[39m moleculeFromCsv(path, deltas \u001b[39m=\u001b[39m deltasStd)\n\u001b[1;32m    327\u001b[0m stdMeasurement, stdMNDict, stdFF \u001b[39m=\u001b[39m simulateMeasurement(thisStd, \u001b[39m*\u001b[39m\u001b[39m*\u001b[39msimArgs)\n\u001b[1;32m    329\u001b[0m \u001b[39m#Simulate observations of the sample\u001b[39;00m\n",
      "File \u001b[0;32m~/Documents/GitHub/Isotomics-Automated/lib/readCSVAndSimulate.py:93\u001b[0m, in \u001b[0;36mmoleculeFromCsv\u001b[0;34m(path, deltas, fragSubset)\u001b[0m\n\u001b[1;32m     77\u001b[0m \u001b[39m\u001b[39m\u001b[39m'''\u001b[39;00m\n\u001b[1;32m     78\u001b[0m \u001b[39mReads in a .csv file to get basic information about that molecule.\u001b[39;00m\n\u001b[1;32m     79\u001b[0m \n\u001b[0;32m   (...)\u001b[0m\n\u001b[1;32m     90\u001b[0m \u001b[39m        fragmentationDictionary: A dictionary like the allFragments variable, but only including the subset of fragments selected by fragSubset.\u001b[39;00m\n\u001b[1;32m     91\u001b[0m \u001b[39m'''\u001b[39;00m\n\u001b[1;32m     92\u001b[0m \u001b[39m#Read csv\u001b[39;00m\n\u001b[0;32m---> 93\u001b[0m molecularDf \u001b[39m=\u001b[39m pd\u001b[39m.\u001b[39mread_csv(path, index_col\u001b[39m=\u001b[39m\u001b[39m'\u001b[39m\u001b[39mSite Names\u001b[39m\u001b[39m'\u001b[39m)\n\u001b[1;32m     94\u001b[0m molecularDf\u001b[39m.\u001b[39mindex\u001b[39m.\u001b[39mname \u001b[39m=\u001b[39m \u001b[39mNone\u001b[39;00m\n\u001b[1;32m     96\u001b[0m \u001b[39m#Columns must be renamed from the input csv to the format the code expects. We add to this in 'process_fragment_column'.\u001b[39;00m\n",
      "File \u001b[0;32m~/anaconda3/lib/python3.11/site-packages/pandas/util/_decorators.py:211\u001b[0m, in \u001b[0;36mdeprecate_kwarg.<locals>._deprecate_kwarg.<locals>.wrapper\u001b[0;34m(*args, **kwargs)\u001b[0m\n\u001b[1;32m    209\u001b[0m     \u001b[39melse\u001b[39;00m:\n\u001b[1;32m    210\u001b[0m         kwargs[new_arg_name] \u001b[39m=\u001b[39m new_arg_value\n\u001b[0;32m--> 211\u001b[0m \u001b[39mreturn\u001b[39;00m func(\u001b[39m*\u001b[39margs, \u001b[39m*\u001b[39m\u001b[39m*\u001b[39mkwargs)\n",
      "File \u001b[0;32m~/anaconda3/lib/python3.11/site-packages/pandas/util/_decorators.py:331\u001b[0m, in \u001b[0;36mdeprecate_nonkeyword_arguments.<locals>.decorate.<locals>.wrapper\u001b[0;34m(*args, **kwargs)\u001b[0m\n\u001b[1;32m    325\u001b[0m \u001b[39mif\u001b[39;00m \u001b[39mlen\u001b[39m(args) \u001b[39m>\u001b[39m num_allow_args:\n\u001b[1;32m    326\u001b[0m     warnings\u001b[39m.\u001b[39mwarn(\n\u001b[1;32m    327\u001b[0m         msg\u001b[39m.\u001b[39mformat(arguments\u001b[39m=\u001b[39m_format_argument_list(allow_args)),\n\u001b[1;32m    328\u001b[0m         \u001b[39mFutureWarning\u001b[39;00m,\n\u001b[1;32m    329\u001b[0m         stacklevel\u001b[39m=\u001b[39mfind_stack_level(),\n\u001b[1;32m    330\u001b[0m     )\n\u001b[0;32m--> 331\u001b[0m \u001b[39mreturn\u001b[39;00m func(\u001b[39m*\u001b[39margs, \u001b[39m*\u001b[39m\u001b[39m*\u001b[39mkwargs)\n",
      "File \u001b[0;32m~/anaconda3/lib/python3.11/site-packages/pandas/io/parsers/readers.py:950\u001b[0m, in \u001b[0;36mread_csv\u001b[0;34m(filepath_or_buffer, sep, delimiter, header, names, index_col, usecols, squeeze, prefix, mangle_dupe_cols, dtype, engine, converters, true_values, false_values, skipinitialspace, skiprows, skipfooter, nrows, na_values, keep_default_na, na_filter, verbose, skip_blank_lines, parse_dates, infer_datetime_format, keep_date_col, date_parser, dayfirst, cache_dates, iterator, chunksize, compression, thousands, decimal, lineterminator, quotechar, quoting, doublequote, escapechar, comment, encoding, encoding_errors, dialect, error_bad_lines, warn_bad_lines, on_bad_lines, delim_whitespace, low_memory, memory_map, float_precision, storage_options)\u001b[0m\n\u001b[1;32m    935\u001b[0m kwds_defaults \u001b[39m=\u001b[39m _refine_defaults_read(\n\u001b[1;32m    936\u001b[0m     dialect,\n\u001b[1;32m    937\u001b[0m     delimiter,\n\u001b[0;32m   (...)\u001b[0m\n\u001b[1;32m    946\u001b[0m     defaults\u001b[39m=\u001b[39m{\u001b[39m\"\u001b[39m\u001b[39mdelimiter\u001b[39m\u001b[39m\"\u001b[39m: \u001b[39m\"\u001b[39m\u001b[39m,\u001b[39m\u001b[39m\"\u001b[39m},\n\u001b[1;32m    947\u001b[0m )\n\u001b[1;32m    948\u001b[0m kwds\u001b[39m.\u001b[39mupdate(kwds_defaults)\n\u001b[0;32m--> 950\u001b[0m \u001b[39mreturn\u001b[39;00m _read(filepath_or_buffer, kwds)\n",
      "File \u001b[0;32m~/anaconda3/lib/python3.11/site-packages/pandas/io/parsers/readers.py:605\u001b[0m, in \u001b[0;36m_read\u001b[0;34m(filepath_or_buffer, kwds)\u001b[0m\n\u001b[1;32m    602\u001b[0m _validate_names(kwds\u001b[39m.\u001b[39mget(\u001b[39m\"\u001b[39m\u001b[39mnames\u001b[39m\u001b[39m\"\u001b[39m, \u001b[39mNone\u001b[39;00m))\n\u001b[1;32m    604\u001b[0m \u001b[39m# Create the parser.\u001b[39;00m\n\u001b[0;32m--> 605\u001b[0m parser \u001b[39m=\u001b[39m TextFileReader(filepath_or_buffer, \u001b[39m*\u001b[39m\u001b[39m*\u001b[39mkwds)\n\u001b[1;32m    607\u001b[0m \u001b[39mif\u001b[39;00m chunksize \u001b[39mor\u001b[39;00m iterator:\n\u001b[1;32m    608\u001b[0m     \u001b[39mreturn\u001b[39;00m parser\n",
      "File \u001b[0;32m~/anaconda3/lib/python3.11/site-packages/pandas/io/parsers/readers.py:1442\u001b[0m, in \u001b[0;36mTextFileReader.__init__\u001b[0;34m(self, f, engine, **kwds)\u001b[0m\n\u001b[1;32m   1439\u001b[0m     \u001b[39mself\u001b[39m\u001b[39m.\u001b[39moptions[\u001b[39m\"\u001b[39m\u001b[39mhas_index_names\u001b[39m\u001b[39m\"\u001b[39m] \u001b[39m=\u001b[39m kwds[\u001b[39m\"\u001b[39m\u001b[39mhas_index_names\u001b[39m\u001b[39m\"\u001b[39m]\n\u001b[1;32m   1441\u001b[0m \u001b[39mself\u001b[39m\u001b[39m.\u001b[39mhandles: IOHandles \u001b[39m|\u001b[39m \u001b[39mNone\u001b[39;00m \u001b[39m=\u001b[39m \u001b[39mNone\u001b[39;00m\n\u001b[0;32m-> 1442\u001b[0m \u001b[39mself\u001b[39m\u001b[39m.\u001b[39m_engine \u001b[39m=\u001b[39m \u001b[39mself\u001b[39m\u001b[39m.\u001b[39m_make_engine(f, \u001b[39mself\u001b[39m\u001b[39m.\u001b[39mengine)\n",
      "File \u001b[0;32m~/anaconda3/lib/python3.11/site-packages/pandas/io/parsers/readers.py:1735\u001b[0m, in \u001b[0;36mTextFileReader._make_engine\u001b[0;34m(self, f, engine)\u001b[0m\n\u001b[1;32m   1733\u001b[0m     \u001b[39mif\u001b[39;00m \u001b[39m\"\u001b[39m\u001b[39mb\u001b[39m\u001b[39m\"\u001b[39m \u001b[39mnot\u001b[39;00m \u001b[39min\u001b[39;00m mode:\n\u001b[1;32m   1734\u001b[0m         mode \u001b[39m+\u001b[39m\u001b[39m=\u001b[39m \u001b[39m\"\u001b[39m\u001b[39mb\u001b[39m\u001b[39m\"\u001b[39m\n\u001b[0;32m-> 1735\u001b[0m \u001b[39mself\u001b[39m\u001b[39m.\u001b[39mhandles \u001b[39m=\u001b[39m get_handle(\n\u001b[1;32m   1736\u001b[0m     f,\n\u001b[1;32m   1737\u001b[0m     mode,\n\u001b[1;32m   1738\u001b[0m     encoding\u001b[39m=\u001b[39m\u001b[39mself\u001b[39m\u001b[39m.\u001b[39moptions\u001b[39m.\u001b[39mget(\u001b[39m\"\u001b[39m\u001b[39mencoding\u001b[39m\u001b[39m\"\u001b[39m, \u001b[39mNone\u001b[39;00m),\n\u001b[1;32m   1739\u001b[0m     compression\u001b[39m=\u001b[39m\u001b[39mself\u001b[39m\u001b[39m.\u001b[39moptions\u001b[39m.\u001b[39mget(\u001b[39m\"\u001b[39m\u001b[39mcompression\u001b[39m\u001b[39m\"\u001b[39m, \u001b[39mNone\u001b[39;00m),\n\u001b[1;32m   1740\u001b[0m     memory_map\u001b[39m=\u001b[39m\u001b[39mself\u001b[39m\u001b[39m.\u001b[39moptions\u001b[39m.\u001b[39mget(\u001b[39m\"\u001b[39m\u001b[39mmemory_map\u001b[39m\u001b[39m\"\u001b[39m, \u001b[39mFalse\u001b[39;00m),\n\u001b[1;32m   1741\u001b[0m     is_text\u001b[39m=\u001b[39mis_text,\n\u001b[1;32m   1742\u001b[0m     errors\u001b[39m=\u001b[39m\u001b[39mself\u001b[39m\u001b[39m.\u001b[39moptions\u001b[39m.\u001b[39mget(\u001b[39m\"\u001b[39m\u001b[39mencoding_errors\u001b[39m\u001b[39m\"\u001b[39m, \u001b[39m\"\u001b[39m\u001b[39mstrict\u001b[39m\u001b[39m\"\u001b[39m),\n\u001b[1;32m   1743\u001b[0m     storage_options\u001b[39m=\u001b[39m\u001b[39mself\u001b[39m\u001b[39m.\u001b[39moptions\u001b[39m.\u001b[39mget(\u001b[39m\"\u001b[39m\u001b[39mstorage_options\u001b[39m\u001b[39m\"\u001b[39m, \u001b[39mNone\u001b[39;00m),\n\u001b[1;32m   1744\u001b[0m )\n\u001b[1;32m   1745\u001b[0m \u001b[39massert\u001b[39;00m \u001b[39mself\u001b[39m\u001b[39m.\u001b[39mhandles \u001b[39mis\u001b[39;00m \u001b[39mnot\u001b[39;00m \u001b[39mNone\u001b[39;00m\n\u001b[1;32m   1746\u001b[0m f \u001b[39m=\u001b[39m \u001b[39mself\u001b[39m\u001b[39m.\u001b[39mhandles\u001b[39m.\u001b[39mhandle\n",
      "File \u001b[0;32m~/anaconda3/lib/python3.11/site-packages/pandas/io/common.py:856\u001b[0m, in \u001b[0;36mget_handle\u001b[0;34m(path_or_buf, mode, encoding, compression, memory_map, is_text, errors, storage_options)\u001b[0m\n\u001b[1;32m    851\u001b[0m \u001b[39melif\u001b[39;00m \u001b[39misinstance\u001b[39m(handle, \u001b[39mstr\u001b[39m):\n\u001b[1;32m    852\u001b[0m     \u001b[39m# Check whether the filename is to be opened in binary mode.\u001b[39;00m\n\u001b[1;32m    853\u001b[0m     \u001b[39m# Binary mode does not support 'encoding' and 'newline'.\u001b[39;00m\n\u001b[1;32m    854\u001b[0m     \u001b[39mif\u001b[39;00m ioargs\u001b[39m.\u001b[39mencoding \u001b[39mand\u001b[39;00m \u001b[39m\"\u001b[39m\u001b[39mb\u001b[39m\u001b[39m\"\u001b[39m \u001b[39mnot\u001b[39;00m \u001b[39min\u001b[39;00m ioargs\u001b[39m.\u001b[39mmode:\n\u001b[1;32m    855\u001b[0m         \u001b[39m# Encoding\u001b[39;00m\n\u001b[0;32m--> 856\u001b[0m         handle \u001b[39m=\u001b[39m \u001b[39mopen\u001b[39m(\n\u001b[1;32m    857\u001b[0m             handle,\n\u001b[1;32m    858\u001b[0m             ioargs\u001b[39m.\u001b[39mmode,\n\u001b[1;32m    859\u001b[0m             encoding\u001b[39m=\u001b[39mioargs\u001b[39m.\u001b[39mencoding,\n\u001b[1;32m    860\u001b[0m             errors\u001b[39m=\u001b[39merrors,\n\u001b[1;32m    861\u001b[0m             newline\u001b[39m=\u001b[39m\u001b[39m\"\u001b[39m\u001b[39m\"\u001b[39m,\n\u001b[1;32m    862\u001b[0m         )\n\u001b[1;32m    863\u001b[0m     \u001b[39melse\u001b[39;00m:\n\u001b[1;32m    864\u001b[0m         \u001b[39m# Binary mode\u001b[39;00m\n\u001b[1;32m    865\u001b[0m         handle \u001b[39m=\u001b[39m \u001b[39mopen\u001b[39m(handle, ioargs\u001b[39m.\u001b[39mmode)\n",
      "\u001b[0;31mFileNotFoundError\u001b[0m: [Errno 2] No such file or directory: 'Processed Data\\\\Example Input.csv'"
     ]
    }
   ],
   "source": [
    "#GET SIMULATION OUTPUT\n",
    "simulationOutput = sim.simulateSmpStd(MOLECULE_INPUT_PATH, STD_DELTAS, SMP_DELTAS, STD_DELTAS_APPROX, abundanceThreshold = 0, UValueList = [MOLECULAR_AVERAGE_SUBSTITUION], calcFF = FRACTIONATION, omitMeasurements = OMIT_MEASUREMENTS, ffstd = FRACTIONATION_AMOUNT, errorPath = ERROR_PATH, MNError = MN_ERROR, UValueError = MOLECULAR_AVERAGE_ERROR, resultsFileName = OUTPUT_FILENAME)"
   ]
  },
  {
   "cell_type": "code",
   "execution_count": 12,
   "metadata": {},
   "outputs": [],
   "source": [
    "#SPECIFY DETAILS ABOUT THE MEASUREMENT\n",
    "today = date.today()\n",
    "\n",
    "#Constants for the runs for processing\n",
    "ACQUISITION_LENGTH = (5, 15) #Change the time here based on how long it takes isotope val to stabilize.\n",
    "STANDARD_VAL = -31.13 #d13C value of VAN4\n",
    "NUMBER_OF_CARBONS = 3\n",
    "STANDARD_DELTA_VALS = [-20.19,-27.7,-62.47,0,0,0,0,0] #initiate array with values for VANA, or whatever is the standard"
   ]
  },
  {
   "cell_type": "code",
   "execution_count": 13,
   "metadata": {},
   "outputs": [
    {
     "ename": "NameError",
     "evalue": "name 'initializedMolecule' is not defined",
     "output_type": "error",
     "traceback": [
      "\u001b[0;31m---------------------------------------------------------------------------\u001b[0m",
      "\u001b[0;31mNameError\u001b[0m                                 Traceback (most recent call last)",
      "Cell \u001b[0;32mIn[13], line 8\u001b[0m\n\u001b[1;32m      5\u001b[0m file_extension \u001b[39m=\u001b[39m \u001b[39m'\u001b[39m\u001b[39m.isox\u001b[39m\u001b[39m'\u001b[39m \u001b[39m#set the extension to be whatever format your files are in. currently, the code handles .isox files\u001b[39;00m\n\u001b[1;32m      7\u001b[0m \u001b[39m#generate nested folders to put your data into\u001b[39;00m\n\u001b[0;32m----> 8\u001b[0m fragmentDictionary \u001b[39m=\u001b[39m initializedMolecule(\u001b[39m\"\u001b[39m\u001b[39m/Users/sarahzeichner/Documents/GitHub/Isotomics-User-Friendly/Alanine Tutorial/Example Input.csv\u001b[39m\u001b[39m\"\u001b[39m)[\u001b[39m'\u001b[39m\u001b[39mfragmentationDictionary\u001b[39m\u001b[39m'\u001b[39m] \n\u001b[1;32m      9\u001b[0m new_folder_path \u001b[39m=\u001b[39m os\u001b[39m.\u001b[39mpath\u001b[39m.\u001b[39mjoin(cwd, processed_data_subfolder_name, output_folder_name)\n\u001b[1;32m     10\u001b[0m folderNames, parent_folder \u001b[39m=\u001b[39m organizeData\u001b[39m.\u001b[39mcreate_nested_folders(fragment_dict\u001b[39m=\u001b[39mfragmentDictionary\u001b[39m.\u001b[39mkeys(), parent_folder\u001b[39m=\u001b[39mnew_folder_path)\n",
      "\u001b[0;31mNameError\u001b[0m: name 'initializedMolecule' is not defined"
     ]
    }
   ],
   "source": [
    "#CREATE FOLDERS FOR DATA PROCESSING\n",
    "#set variables related to where data will be output to\n",
    "output_folder_name = 'Test_Data_Output' #name your folder that you want all your data to go into (e.g., the name of your experiment)\n",
    "processed_data_subfolder_name = 'Processed Data'\n",
    "file_extension = '.isox' #set the extension to be whatever format your files are in. currently, the code handles .isox files\n",
    "\n",
    "#generate nested folders to put your data into\n",
    "fragmentDictionary = initializedMolecule(\"/Users/sarahzeichner/Documents/GitHub/Isotomics-User-Friendly/Alanine Tutorial/Example Input.csv\")['fragmentationDictionary'] \n",
    "new_folder_path = os.path.join(cwd, processed_data_subfolder_name, output_folder_name)\n",
    "folderNames, parent_folder = organizeData.create_nested_folders(fragment_dict=fragmentDictionary.keys(), parent_folder=new_folder_path)"
   ]
  },
  {
   "cell_type": "code",
   "execution_count": null,
   "metadata": {},
   "outputs": [],
   "source": [
    "#PROCESS DATA FROM FOLDER PATHS\n",
    "fragmentFolderPaths = organizeData.get_subfolder_paths(parent_folder)\n",
    "print(fragmentFolderPaths)\n",
    "\n",
    "#TODO: CREATE A LOOP WHERE ALL THESE DIFFERENT FOLDERS GET ITERATED THROUGH AND THEN SPIT OUT DATA \n",
    "#Get list of file names and paths to process\n",
    "isoXFileNames = organizeData.get_isoX_file_Smp_Std_Dictionary(parent_folder, file_extension)\n",
    "\n",
    "for thisFolder in isoXFileNames.items():\n",
    "    dA.calc_Folder_Output(thisFolder)\n",
    "print(isoXFileNames)"
   ]
  }
 ],
 "metadata": {
  "kernelspec": {
   "display_name": "Python 3 (ipykernel)",
   "language": "python",
   "name": "python3"
  },
  "language_info": {
   "codemirror_mode": {
    "name": "ipython",
    "version": 3
   },
   "file_extension": ".py",
   "mimetype": "text/x-python",
   "name": "python",
   "nbconvert_exporter": "python",
   "pygments_lexer": "ipython3",
   "version": "3.11.4"
  }
 },
 "nbformat": 4,
 "nbformat_minor": 2
}

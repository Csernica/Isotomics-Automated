{
 "cells": [
  {
   "cell_type": "code",
   "execution_count": 1,
   "metadata": {},
   "outputs": [
    {
     "name": "stdout",
     "output_type": "stream",
     "text": [
      "/Users/sarahzeichner/Documents/GitHub/Isotomics-Automated\n"
     ]
    }
   ],
   "source": [
   ]
  },
  {
   "cell_type": "code",
   "execution_count": 2,
   "metadata": {},
   "outputs": [],
   "source": [
    "#SET PARAMETERS\n",
    "MOLECULE_INPUT_PATH = \"Processed Data\\Example Input.csv\"\n",
    "STD_DELTAS = [-30] * 6\n",
    "SMP_DELTAS = [0] * 6\n",
    "STD_DELTAS_APPROX = [-30] * 6\n",
    "ABUNDANCE_THRESHOLD = 0\n",
    "OMIT_MEASUREMENTS = {'M1':{'full':['17O']}}\n",
    "FRACTIONATION = False\n",
    "FRACTIONATION_AMOUNT = 0.05\n",
    "ERROR_PATH = 'Processed Data\\Alanine Experimental Errors.csv'\n",
    "MN_ERROR = 1\n",
    "MOLECULAR_AVERAGE_SUBSTITUION = '13C'\n",
    "MOLECULAR_AVERAGE_ERROR = 1\n",
    "OUTPUT_FILENAME = 'output.csv'"
   ]
  },
  {
   "cell_type": "markdown",
   "metadata": {},
   "source": [
    "Module 1: Initialize molecule from CSV input."
   ]
  },
  {
   "cell_type": "code",
   "execution_count": 3,
   "metadata": {},
   "outputs": [],
   "source": [
    "\n",
    "initializedMolecule = moleculeFromCsv('Processed Data/Example Input.csv')"
   ]
  },
  {
   "cell_type": "markdown",
   "metadata": {},
   "source": [
    "Module 2: Create a model to check whether or not your molecule was initialized properly from the input csv"
   ]
  },
  {
   "cell_type": "code",
   "execution_count": 5,
   "metadata": {},
   "outputs": [
    {
    "\n",
    "spectrumVis.fullSpectrumVis(predictedMeasurement['Full Molecule'], initializedMolecule['molecularDataFrame'], figsize = (8,4), massError = 0, lowAbundanceCutOff = 0, xlim = (), ylim = (), outputIsotopologs=True)\n",
    "\n",
    "spectrumVis.MNSpectrumVis(initializedMolecule['molecularDataFrame'], '44', predictedMeasurement, 'M1', MNDict, lowAbundanceCutOff = 0, massError = 0, xlim = (), ylim = (), outputIsotopologs=True)"
   ]
  },
  {
   "cell_type": "markdown",
   "metadata": {},
   "source": [
    "Module 3: Process data from measurements\n",
    "\n",
    "First, set up some details regarding the experiments"
   ]
  },
  {
   "cell_type": "code",
   "metadata": {},
   "outputs": [],
   "source": [
    "#Specify some details about the measurement\n",
    "today = date.today()\n",
    "\n",
    "#Constants for the runs for processing\n",
    "ACQUISITION_LENGTH = (5, 15) #Change the time here based on how long it takes isotope val to stabilize.\n",
    "STANDARD_VAL = -31.13 #d13C value of VAN4\n",
    "NUMBER_OF_CARBONS = 3\n",
    "STANDARD_DELTA_VALS = [-20.19,-27.7,-62.47,0,0,0,0,0] #initiate array with values for VANA, or whatever is the standard"
   ]
  },
  {
   "cell_type": "markdown",
   "metadata": {},
   "source": [
    "Step 3A: Load and organize the data using the automatically generated folders in the working directory"
   ]
  },
  {
   "cell_type": "markdown",
   "metadata": {},
   "source": [
    "First, we will use the csv you defined for the molecule of interest to create nested folders to put your data"
   ]
  },
  {
   "cell_type": "code",
   "execution_count": 7,
   "metadata": {},
   "outputs": [
    {
     "name": "stdout",
     "output_type": "stream",
     "text": [
      "Folder created: /Users/sarahzeichner/Documents/GitHub/Isotomics-Automated/Processed Data/Test_Data_Output/full_relative_abundance\n",
      "Folder created: /Users/sarahzeichner/Documents/GitHub/Isotomics-Automated/Processed Data/Test_Data_Output/full_molecular_average\n",
      "Folder created: /Users/sarahzeichner/Documents/GitHub/Isotomics-Automated/Processed Data/Test_Data_Output/44\n"
     ]
    }
   ],
   "source": [
    "#set variables related to where data will be output to\n",
    "output_folder_name = 'Test_Data_Output' #name your folder that you want all your data to go into (e.g., the name of your experiment)\n",
    "processed_data_subfolder_name = 'Processed Data'\n",
    "file_extension = '.isox' #set the extension to be whatever format your files are in. currently, the code handles .isox files\n",
    "\n",
    "#generate nested folders to put your data into\n",
    "fragmentDictionary = moleculeFromCsv(\"/Users/sarahzeichner/Documents/GitHub/Isotomics-User-Friendly/Alanine Tutorial/Example Input.csv\")['fragmentationDictionary'] \n",
    "new_folder_path = os.path.join(cwd, processed_data_subfolder_name, output_folder_name)\n",
    "folderNames, parent_folder = organizeData.create_nested_folders(fragment_dict=fragmentDictionary.keys(), parent_folder=new_folder_path)"
   ]
  },
  {
   "cell_type": "markdown",
   "metadata": {},
   "source": [
    "Now, put your data into the created folders. Each acquistion should have a separate data file associated with it, \n",
    "that are separated as \"Smp\" and \"Std\", respectively."
   ]
  },
  {
   "cell_type": "markdown",
   "metadata": {},
   "source": [
    "Step 3B: Process folders of files and calculate statistics"
   ]
  },
  {
   "cell_type": "code",
   "execution_count": 8,
   "metadata": {},
   "outputs": [
    {
     "name": "stdout",
     "output_type": "stream",
     "text": [
      "['/Users/sarahzeichner/Documents/GitHub/Isotomics-Automated/Processed Data/Test_Data_Output/full_molecular_average', '/Users/sarahzeichner/Documents/GitHub/Isotomics-Automated/Processed Data/Test_Data_Output/full_relative_abundance', '/Users/sarahzeichner/Documents/GitHub/Isotomics-Automated/Processed Data/Test_Data_Output/44']\n"
     ]
    }
   ],
   "source": [
    "fragmentFolderPaths = organizeData.get_subfolder_paths(parent_folder)\n",
    "print(fragmentFolderPaths)"
   ]
  },
  {
   "cell_type": "code",
   "execution_count": 10,
   "metadata": {},
   "outputs": [
    {
     "name": "stdout",
     "output_type": "stream",
     "text": [
      "{'/Users/sarahzeichner/Documents/GitHub/Isotomics-Automated/Processed Data/Test_Data_Output/full_molecular_average': {'Std': ['/Users/sarahzeichner/Documents/GitHub/Isotomics-Automated/Processed Data/Test_Data_Output/full_molecular_average/Std/20230404_Alanine_MA_Wide.isox'], 'Smp': ['/Users/sarahzeichner/Documents/GitHub/Isotomics-Automated/Processed Data/Test_Data_Output/full_molecular_average/Smp/20230404_Alanine_MA_Wide.isox']}, '/Users/sarahzeichner/Documents/GitHub/Isotomics-Automated/Processed Data/Test_Data_Output/full_relative_abundance': {'Std': ['/Users/sarahzeichner/Documents/GitHub/Isotomics-Automated/Processed Data/Test_Data_Output/full_relative_abundance/Std/20230404_Alanine_90_M1_Wide.isox'], 'Smp': ['/Users/sarahzeichner/Documents/GitHub/Isotomics-Automated/Processed Data/Test_Data_Output/full_relative_abundance/Smp/20230404_Alanine_90_M1_Wide.isox']}, '/Users/sarahzeichner/Documents/GitHub/Isotomics-Automated/Processed Data/Test_Data_Output/44': {'Std': [], 'Smp': ['/Users/sarahzeichner/Documents/GitHub/Isotomics-Automated/Processed Data/Test_Data_Output/44/Smp/20230627_Alanine_44_M1.isox']}}\n"
     ]
    }
   ],
   "source": [
    "#Get list of file names and paths to process\n",
    "isoXFileNames = organizeData.get_isoX_file_Smp_Std_Dictionary(parent_folder, file_extension)\n",
    "\n",
    "for thisFolder in isoXFileNames:\n",
    "    \n"
   ]
  },
  {
   "cell_type": "markdown",
   "metadata": {},
   "source": [
    "Step 3C: Evaluate individual data files for data quality"
   ]
  },
  {
   "cell_type": "markdown",
   "metadata": {},
   "source": []
  }
 ],
 "metadata": {
  "kernelspec": {
   "display_name": "Python 3 (ipykernel)",
   "language": "python",
   "name": "python3"
  },
  "language_info": {
   "codemirror_mode": {
    "name": "ipython",
    "version": 3
   },
   "file_extension": ".py",
   "mimetype": "text/x-python",
   "name": "python",
   "nbconvert_exporter": "python",
   "pygments_lexer": "ipython3",
   "version": "3.11.4"
  }
 },
 "nbformat": 4,
 "nbformat_minor": 2
}
